{
  "nbformat": 4,
  "nbformat_minor": 0,
  "metadata": {
    "colab": {
      "name": "transformer.ipynb",
      "provenance": [],
      "collapsed_sections": []
    },
    "kernelspec": {
      "name": "python3",
      "display_name": "Python 3"
    },
    "language_info": {
      "name": "python"
    },
    "accelerator": "GPU"
  },
  "cells": [
    {
      "cell_type": "code",
      "execution_count": 1,
      "metadata": {
        "colab": {
          "base_uri": "https://localhost:8080/"
        },
        "id": "B_T_hdzYfRRg",
        "outputId": "665ce671-c92b-4f1f-c847-b5c479ed9460"
      },
      "outputs": [
        {
          "output_type": "stream",
          "name": "stdout",
          "text": [
            "/bin/bash: line 0: export: `=': not a valid identifier\n"
          ]
        }
      ],
      "source": [
        "!pip install -q transformers sacremoses\n",
        "!export TOKENIZERS_PARALLELISM = false"
      ]
    },
    {
      "cell_type": "code",
      "source": [
        "from google.colab import drive\n",
        "drive.mount('/content/drive/')"
      ],
      "metadata": {
        "colab": {
          "base_uri": "https://localhost:8080/"
        },
        "id": "PjPKVbRrfiTi",
        "outputId": "2b57ccc4-f792-46b6-e7a3-b779875abdd5"
      },
      "execution_count": 2,
      "outputs": [
        {
          "output_type": "stream",
          "name": "stdout",
          "text": [
            "Drive already mounted at /content/drive/; to attempt to forcibly remount, call drive.mount(\"/content/drive/\", force_remount=True).\n"
          ]
        }
      ]
    },
    {
      "cell_type": "code",
      "source": [
        "import os\n",
        "import pandas as pd\n",
        "\n",
        "\n",
        "ROOT = '/content/drive/MyDrive/Colab Notebooks/ZUM/NLP/data'\n",
        "\n",
        "\n",
        "train = pd.read_csv(os.path.join(ROOT, 'train.csv'), index_col=0)\n",
        "valid = pd.read_csv(os.path.join(ROOT, 'valid.csv'), index_col=0)\n",
        "\n",
        "\n",
        "train.head()"
      ],
      "metadata": {
        "colab": {
          "base_uri": "https://localhost:8080/",
          "height": 206
        },
        "id": "IT71jeYMfpQJ",
        "outputId": "d3f35ea0-8a2c-400b-e040-0fb2712ff7d1"
      },
      "execution_count": 3,
      "outputs": [
        {
          "output_type": "execute_result",
          "data": {
            "text/plain": [
              "                  user                                               text  \\\n",
              "167299   JakubMajmurek  Mogłoby się wydawać, że wielkie protesty na je...   \n",
              "12664       lis_tomasz  To może jest niezły pomysł - uwolnić Polskę od...   \n",
              "58983   WitoldGlowacki  Strasznie się ucieszyłem, że Netflix wrzucił \"...   \n",
              "131685  GadowskiWitold  Jestem mężczyzną w mocno średnim wieku, całe ż...   \n",
              "52477   WitoldGlowacki  Podsumujmy. Rządy Polski i Węgier aż tak bardz...   \n",
              "\n",
              "                             date language  \\\n",
              "167299  2021-03-13 09:04:53+00:00       pl   \n",
              "12664   2021-12-16 15:28:19+00:00       pl   \n",
              "58983   2018-09-13 20:01:17+00:00       pl   \n",
              "131685  2021-09-23 10:51:59+00:00       pl   \n",
              "52477   2020-11-16 18:53:16+00:00       pl   \n",
              "\n",
              "                                          text-normalized  label  \n",
              "167299  móc wydawać wielki protest jesień spadek sonda...      1  \n",
              "12664   niezły pomysł uwolnić Polska człowiek awansowa...      0  \n",
              "58983   strasznie ucieszyć netflix wrzucić mountain fi...      0  \n",
              "131685  mężczyzna mocno średni wieko cały żyto komuna ...      1  \n",
              "52477   podsumować rząd Polska Węgry chcieć przestrzeg...      0  "
            ],
            "text/html": [
              "\n",
              "  <div id=\"df-bb8ae977-0733-43f2-86e5-fc2e430a130c\">\n",
              "    <div class=\"colab-df-container\">\n",
              "      <div>\n",
              "<style scoped>\n",
              "    .dataframe tbody tr th:only-of-type {\n",
              "        vertical-align: middle;\n",
              "    }\n",
              "\n",
              "    .dataframe tbody tr th {\n",
              "        vertical-align: top;\n",
              "    }\n",
              "\n",
              "    .dataframe thead th {\n",
              "        text-align: right;\n",
              "    }\n",
              "</style>\n",
              "<table border=\"1\" class=\"dataframe\">\n",
              "  <thead>\n",
              "    <tr style=\"text-align: right;\">\n",
              "      <th></th>\n",
              "      <th>user</th>\n",
              "      <th>text</th>\n",
              "      <th>date</th>\n",
              "      <th>language</th>\n",
              "      <th>text-normalized</th>\n",
              "      <th>label</th>\n",
              "    </tr>\n",
              "  </thead>\n",
              "  <tbody>\n",
              "    <tr>\n",
              "      <th>167299</th>\n",
              "      <td>JakubMajmurek</td>\n",
              "      <td>Mogłoby się wydawać, że wielkie protesty na je...</td>\n",
              "      <td>2021-03-13 09:04:53+00:00</td>\n",
              "      <td>pl</td>\n",
              "      <td>móc wydawać wielki protest jesień spadek sonda...</td>\n",
              "      <td>1</td>\n",
              "    </tr>\n",
              "    <tr>\n",
              "      <th>12664</th>\n",
              "      <td>lis_tomasz</td>\n",
              "      <td>To może jest niezły pomysł - uwolnić Polskę od...</td>\n",
              "      <td>2021-12-16 15:28:19+00:00</td>\n",
              "      <td>pl</td>\n",
              "      <td>niezły pomysł uwolnić Polska człowiek awansowa...</td>\n",
              "      <td>0</td>\n",
              "    </tr>\n",
              "    <tr>\n",
              "      <th>58983</th>\n",
              "      <td>WitoldGlowacki</td>\n",
              "      <td>Strasznie się ucieszyłem, że Netflix wrzucił \"...</td>\n",
              "      <td>2018-09-13 20:01:17+00:00</td>\n",
              "      <td>pl</td>\n",
              "      <td>strasznie ucieszyć netflix wrzucić mountain fi...</td>\n",
              "      <td>0</td>\n",
              "    </tr>\n",
              "    <tr>\n",
              "      <th>131685</th>\n",
              "      <td>GadowskiWitold</td>\n",
              "      <td>Jestem mężczyzną w mocno średnim wieku, całe ż...</td>\n",
              "      <td>2021-09-23 10:51:59+00:00</td>\n",
              "      <td>pl</td>\n",
              "      <td>mężczyzna mocno średni wieko cały żyto komuna ...</td>\n",
              "      <td>1</td>\n",
              "    </tr>\n",
              "    <tr>\n",
              "      <th>52477</th>\n",
              "      <td>WitoldGlowacki</td>\n",
              "      <td>Podsumujmy. Rządy Polski i Węgier aż tak bardz...</td>\n",
              "      <td>2020-11-16 18:53:16+00:00</td>\n",
              "      <td>pl</td>\n",
              "      <td>podsumować rząd Polska Węgry chcieć przestrzeg...</td>\n",
              "      <td>0</td>\n",
              "    </tr>\n",
              "  </tbody>\n",
              "</table>\n",
              "</div>\n",
              "      <button class=\"colab-df-convert\" onclick=\"convertToInteractive('df-bb8ae977-0733-43f2-86e5-fc2e430a130c')\"\n",
              "              title=\"Convert this dataframe to an interactive table.\"\n",
              "              style=\"display:none;\">\n",
              "        \n",
              "  <svg xmlns=\"http://www.w3.org/2000/svg\" height=\"24px\"viewBox=\"0 0 24 24\"\n",
              "       width=\"24px\">\n",
              "    <path d=\"M0 0h24v24H0V0z\" fill=\"none\"/>\n",
              "    <path d=\"M18.56 5.44l.94 2.06.94-2.06 2.06-.94-2.06-.94-.94-2.06-.94 2.06-2.06.94zm-11 1L8.5 8.5l.94-2.06 2.06-.94-2.06-.94L8.5 2.5l-.94 2.06-2.06.94zm10 10l.94 2.06.94-2.06 2.06-.94-2.06-.94-.94-2.06-.94 2.06-2.06.94z\"/><path d=\"M17.41 7.96l-1.37-1.37c-.4-.4-.92-.59-1.43-.59-.52 0-1.04.2-1.43.59L10.3 9.45l-7.72 7.72c-.78.78-.78 2.05 0 2.83L4 21.41c.39.39.9.59 1.41.59.51 0 1.02-.2 1.41-.59l7.78-7.78 2.81-2.81c.8-.78.8-2.07 0-2.86zM5.41 20L4 18.59l7.72-7.72 1.47 1.35L5.41 20z\"/>\n",
              "  </svg>\n",
              "      </button>\n",
              "      \n",
              "  <style>\n",
              "    .colab-df-container {\n",
              "      display:flex;\n",
              "      flex-wrap:wrap;\n",
              "      gap: 12px;\n",
              "    }\n",
              "\n",
              "    .colab-df-convert {\n",
              "      background-color: #E8F0FE;\n",
              "      border: none;\n",
              "      border-radius: 50%;\n",
              "      cursor: pointer;\n",
              "      display: none;\n",
              "      fill: #1967D2;\n",
              "      height: 32px;\n",
              "      padding: 0 0 0 0;\n",
              "      width: 32px;\n",
              "    }\n",
              "\n",
              "    .colab-df-convert:hover {\n",
              "      background-color: #E2EBFA;\n",
              "      box-shadow: 0px 1px 2px rgba(60, 64, 67, 0.3), 0px 1px 3px 1px rgba(60, 64, 67, 0.15);\n",
              "      fill: #174EA6;\n",
              "    }\n",
              "\n",
              "    [theme=dark] .colab-df-convert {\n",
              "      background-color: #3B4455;\n",
              "      fill: #D2E3FC;\n",
              "    }\n",
              "\n",
              "    [theme=dark] .colab-df-convert:hover {\n",
              "      background-color: #434B5C;\n",
              "      box-shadow: 0px 1px 3px 1px rgba(0, 0, 0, 0.15);\n",
              "      filter: drop-shadow(0px 1px 2px rgba(0, 0, 0, 0.3));\n",
              "      fill: #FFFFFF;\n",
              "    }\n",
              "  </style>\n",
              "\n",
              "      <script>\n",
              "        const buttonEl =\n",
              "          document.querySelector('#df-bb8ae977-0733-43f2-86e5-fc2e430a130c button.colab-df-convert');\n",
              "        buttonEl.style.display =\n",
              "          google.colab.kernel.accessAllowed ? 'block' : 'none';\n",
              "\n",
              "        async function convertToInteractive(key) {\n",
              "          const element = document.querySelector('#df-bb8ae977-0733-43f2-86e5-fc2e430a130c');\n",
              "          const dataTable =\n",
              "            await google.colab.kernel.invokeFunction('convertToInteractive',\n",
              "                                                     [key], {});\n",
              "          if (!dataTable) return;\n",
              "\n",
              "          const docLinkHtml = 'Like what you see? Visit the ' +\n",
              "            '<a target=\"_blank\" href=https://colab.research.google.com/notebooks/data_table.ipynb>data table notebook</a>'\n",
              "            + ' to learn more about interactive tables.';\n",
              "          element.innerHTML = '';\n",
              "          dataTable['output_type'] = 'display_data';\n",
              "          await google.colab.output.renderOutput(dataTable, element);\n",
              "          const docLink = document.createElement('div');\n",
              "          docLink.innerHTML = docLinkHtml;\n",
              "          element.appendChild(docLink);\n",
              "        }\n",
              "      </script>\n",
              "    </div>\n",
              "  </div>\n",
              "  "
            ]
          },
          "metadata": {},
          "execution_count": 3
        }
      ]
    },
    {
      "cell_type": "code",
      "source": [
        "from transformers import AutoTokenizer\n",
        "\n",
        "tokenizer = AutoTokenizer.from_pretrained('allegro/herbert-base-cased')\n",
        "tokenizer('Dzień dobry, Panie Bobrze').input_ids"
      ],
      "metadata": {
        "colab": {
          "base_uri": "https://localhost:8080/"
        },
        "id": "lkMP3CXogTVP",
        "outputId": "1e2ea58f-a7d1-42ad-dddf-1442bcbc4e9f"
      },
      "execution_count": 4,
      "outputs": [
        {
          "output_type": "execute_result",
          "data": {
            "text/plain": [
              "[0, 8876, 6092, 1947, 3649, 10999, 2226, 2]"
            ]
          },
          "metadata": {},
          "execution_count": 4
        }
      ]
    },
    {
      "cell_type": "code",
      "source": [
        "import seaborn as sns\n",
        "import matplotlib.pyplot as plt\n",
        "\n",
        "\n",
        "lengths = train['text-normalized'].apply(tokenizer.encode).apply(len)\n",
        "\n",
        "plt.figure(figsize=(8, 8))\n",
        "sns.histplot(lengths.tolist(), bins=20)\n",
        "plt.xlim([0, 100]);\n",
        "plt.xlabel('Token count')\n",
        "plt.show()"
      ],
      "metadata": {
        "colab": {
          "base_uri": "https://localhost:8080/",
          "height": 498
        },
        "id": "vL2sZLykhvvY",
        "outputId": "60d58e10-a56f-4db0-d95a-83adb7812b32"
      },
      "execution_count": 5,
      "outputs": [
        {
          "output_type": "display_data",
          "data": {
            "text/plain": [
              "<Figure size 576x576 with 1 Axes>"
            ],
            "image/png": "[encoded data removed]"
          },
          "metadata": {
            "needs_background": "light"
          }
        }
      ]
    },
    {
      "cell_type": "code",
      "source": [
        "from torch.utils.data import Dataset\n",
        "from dataclasses import dataclass\n",
        "from typing import Dict, Any, Sequence\n",
        "import torch\n",
        "\n",
        "\n",
        "@dataclass\n",
        "class CustomDataset(Dataset):\n",
        "  texts: Sequence[str]\n",
        "  labels: Sequence[int]\n",
        "  tokenizer: AutoTokenizer\n",
        "  max_length: int = 100\n",
        "\n",
        "  def __len__(self) -> int:\n",
        "    return len(self.texts)\n",
        "\n",
        "  def __getitem__(self, index: int) -> Dict[str, Any]:\n",
        "    text = self.texts[index]\n",
        "    label = self.labels[index]\n",
        "\n",
        "    encoding = self.tokenizer.encode_plus(\n",
        "      text,\n",
        "      add_special_tokens=True,\n",
        "      max_length=self.max_length,\n",
        "      padding='max_length',\n",
        "      return_token_type_ids=False,\n",
        "      return_attention_mask=True,\n",
        "      return_tensors='pt',\n",
        "    )\n",
        "\n",
        "    return {\n",
        "      'texts': text,\n",
        "      'inputs': encoding.input_ids.flatten(),\n",
        "      'masks': encoding.attention_mask.flatten(),\n",
        "      'labels': torch.tensor(label, dtype=torch.long)\n",
        "    }"
      ],
      "metadata": {
        "id": "KyKHJ6RcjSN1"
      },
      "execution_count": 6,
      "outputs": []
    },
    {
      "cell_type": "code",
      "source": [
        "from torch.utils.data import DataLoader\n",
        "from pandas import DataFrame\n",
        "\n",
        "def build_data_loader(data: DataFrame, batch_size: int = 128) -> DataLoader:\n",
        "    texts = data['text-normalized'].tolist()\n",
        "    labels = data['label'].tolist()\n",
        "\n",
        "    dataset = CustomDataset(texts, labels, tokenizer)\n",
        "\n",
        "    return DataLoader(dataset, batch_size, shuffle=True)\n",
        "\n",
        "\n",
        "train_loader = build_data_loader(train, batch_size=16)\n",
        "valid_loader = build_data_loader(valid, batch_size=16)"
      ],
      "metadata": {
        "id": "zC3IloHJjnuf"
      },
      "execution_count": 7,
      "outputs": []
    },
    {
      "cell_type": "code",
      "source": [
        "from transformers import AutoModelForSequenceClassification\n",
        "\n",
        "device = torch.device('cuda' if torch.cuda.is_available() else 'cpu')\n",
        "\n",
        "model = AutoModelForSequenceClassification.from_pretrained('allegro/herbert-base-cased')\n",
        "model = model.to(device)"
      ],
      "metadata": {
        "colab": {
          "base_uri": "https://localhost:8080/"
        },
        "id": "RUjlN_bFmXyl",
        "outputId": "fc385313-e0a2-445b-b6c2-80f469c9435f"
      },
      "execution_count": 8,
      "outputs": [
        {
          "output_type": "stream",
          "name": "stderr",
          "text": [
            "Some weights of the model checkpoint at allegro/herbert-base-cased were not used when initializing BertForSequenceClassification: ['cls.predictions.decoder.weight', 'cls.sso.sso_relationship.bias', 'cls.predictions.transform.dense.weight', 'cls.predictions.decoder.bias', 'cls.predictions.transform.dense.bias', 'cls.predictions.transform.LayerNorm.bias', 'cls.predictions.bias', 'cls.predictions.transform.LayerNorm.weight', 'cls.sso.sso_relationship.weight']\n",
            "- This IS expected if you are initializing BertForSequenceClassification from the checkpoint of a model trained on another task or with another architecture (e.g. initializing a BertForSequenceClassification model from a BertForPreTraining model).\n",
            "- This IS NOT expected if you are initializing BertForSequenceClassification from the checkpoint of a model that you expect to be exactly identical (initializing a BertForSequenceClassification model from a BertForSequenceClassification model).\n",
            "Some weights of BertForSequenceClassification were not initialized from the model checkpoint at allegro/herbert-base-cased and are newly initialized: ['classifier.bias', 'classifier.weight']\n",
            "You should probably TRAIN this model on a down-stream task to be able to use it for predictions and inference.\n"
          ]
        }
      ]
    },
    {
      "cell_type": "code",
      "source": [
        "from torch.optim import Optimizer\n",
        "from torch.nn import CrossEntropyLoss\n",
        "from torch.optim.lr_scheduler import LambdaLR\n",
        "from dataclasses import field\n",
        "from typing import Tuple\n",
        "from collections import defaultdict\n",
        "from sklearn.metrics import accuracy_score\n",
        "\n",
        "import numpy as np\n",
        "\n",
        "\n",
        "@dataclass\n",
        "class Trainer:\n",
        "  model: AutoModelForSequenceClassification\n",
        "  criterion: CrossEntropyLoss\n",
        "  optimizer: Optimizer\n",
        "  scheduler: LambdaLR\n",
        "  epochs: int = 100\n",
        "  epochs_per_evaluation: int = 1\n",
        "  best_validation_score: float = 0.0\n",
        "  metrics: Dict[str, Tuple] = field(default_factory=dict)\n",
        "  model_directory_path: str = f'{ROOT}/models/'\n",
        "\n",
        "\n",
        "  def train(self, train: DataLoader, valid: DataLoader) -> None:\n",
        "    for epoch in range(1, self.epochs + 1):\n",
        "\n",
        "      self.model.train()\n",
        "      metrics = defaultdict(list)\n",
        "\n",
        "      for batch in train: \n",
        "        self.optimizer.zero_grad()\n",
        "\n",
        "        inputs = batch['inputs'].to(device)\n",
        "        labels = batch['labels'].to(device)\n",
        "        masks = batch['masks'].to(device)\n",
        "\n",
        "\n",
        "        logits = self.model(inputs, masks).logits\n",
        "        predictions = logits.argmax(1)\n",
        "\n",
        "\n",
        "        loss = self.criterion(logits, labels)\n",
        "        loss.backward()\n",
        "        torch.nn.utils.clip_grad_norm_(self.model.parameters(), 0.1)\n",
        "        self.optimizer.step()\n",
        "\n",
        "\n",
        "        metrics['losses'].append(loss.item())\n",
        "        metrics['predictions'].extend(predictions.tolist())\n",
        "        metrics['labels'].extend(labels.tolist())\n",
        "\n",
        "      loss = np.mean(metrics['losses'])\n",
        "      score = accuracy_score(metrics['labels'], metrics['predictions'])\n",
        "\n",
        "      message = f'Epoch {epoch} | Loss {loss:.4f} | Accuracy: {score:.2f}'\n",
        "\n",
        "      self.metrics[f'Epoch {epoch}'] = (loss, score)\n",
        "\n",
        "      if epoch % self.epochs_per_evaluation == 0:\n",
        "        loss, score = self.evaluate(valid)\n",
        "\n",
        "        if score > self.best_validation_score:\n",
        "          self.best_validation_score = score\n",
        "          self.save_best_model()\n",
        "\n",
        "        message += f' | Validation Loss {loss:.4f} | Validation Accuracy: {score:.2f}'\n",
        "        self.metrics[f'Validation {epoch // self.epochs_per_evaluation}'] = (loss, score)\n",
        "\n",
        "      print(message)\n",
        "\n",
        "  def evaluate(self, loader: DataLoader, return_metrics: bool = False) -> Tuple:\n",
        "    self.model.eval()\n",
        "    metrics = defaultdict(list)\n",
        "\n",
        "    for batch in loader:\n",
        "      with torch.no_grad():\n",
        "        inputs = batch['inputs'].to(device)\n",
        "        labels = batch['labels'].to(device)\n",
        "        masks = batch['masks'].to(device)\n",
        "\n",
        "        logits = self.model(inputs, masks).logits\n",
        "        loss = self.criterion(logits, labels)\n",
        "        predictions = logits.argmax(1)\n",
        "\n",
        "        metrics['losses'].append(loss.item())\n",
        "        metrics['predictions'].extend(predictions.tolist())\n",
        "        metrics['labels'].extend(labels.tolist())\n",
        "\n",
        "    loss = np.mean(metrics['losses']).item()\n",
        "    score = accuracy_score(metrics['labels'], metrics['predictions'])\n",
        "\n",
        "    return (loss, score, metrics) if return_metrics else (loss, score)\n",
        "\n",
        "  def save_best_model(self) -> None:\n",
        "      self.model.save_pretrained(self.model_directory_path)\n",
        "          "
      ],
      "metadata": {
        "id": "1aTTHWvMmqEO"
      },
      "execution_count": 9,
      "outputs": []
    },
    {
      "cell_type": "code",
      "source": [
        "from transformers import get_linear_schedule_with_warmup\n",
        "from torch.optim import AdamW\n",
        "\n",
        "EPOCHS = 5\n",
        "\n",
        "optimizer = AdamW(model.parameters(), lr=2e-5)\n",
        "criterion = CrossEntropyLoss().to(device)\n",
        "\n",
        "scheduler = get_linear_schedule_with_warmup(\n",
        "  optimizer,\n",
        "  num_warmup_steps=0,\n",
        "  num_training_steps=len(train_loader) * EPOCHS\n",
        ")"
      ],
      "metadata": {
        "id": "VVQcyrDlpZxu"
      },
      "execution_count": 10,
      "outputs": []
    },
    {
      "cell_type": "code",
      "source": [
        "trainer = Trainer(model, criterion, optimizer, scheduler, epochs=EPOCHS)\n",
        "trainer.train(train_loader, valid_loader)"
      ],
      "metadata": {
        "colab": {
          "base_uri": "https://localhost:8080/"
        },
        "id": "aySP9niJqGTJ",
        "outputId": "c873521d-71c2-4611-d9c9-ba3449b93005"
      },
      "execution_count": 11,
      "outputs": [
        {
          "output_type": "stream",
          "name": "stdout",
          "text": [
            "Epoch 1 | Loss 0.5485 | Accuracy: 0.72 | Validation Loss 0.5268 | Validation Accuracy: 0.75\n",
            "Epoch 2 | Loss 0.4520 | Accuracy: 0.79 | Validation Loss 0.4985 | Validation Accuracy: 0.76\n",
            "Epoch 3 | Loss 0.3576 | Accuracy: 0.85 | Validation Loss 0.5769 | Validation Accuracy: 0.76\n",
            "Epoch 4 | Loss 0.2619 | Accuracy: 0.90 | Validation Loss 0.6745 | Validation Accuracy: 0.76\n",
            "Epoch 5 | Loss 0.2198 | Accuracy: 0.93 | Validation Loss 1.1796 | Validation Accuracy: 0.75\n"
          ]
        }
      ]
    },
    {
      "cell_type": "code",
      "source": [
        "test = pd.read_csv(os.path.join(ROOT, 'test.csv'), index_col=0)\n",
        "test_loader = build_data_loader(test, batch_size=16)\n",
        "\n",
        "\n",
        "trainer.model = model.from_pretrained(trainer.model_directory_path)\n",
        "trainer.model = trainer.model.to(device)\n",
        "\n",
        "loss, score, metrics = trainer.evaluate(test_loader, return_metrics=True)"
      ],
      "metadata": {
        "id": "qg6_Gn9tzWXc"
      },
      "execution_count": 12,
      "outputs": []
    },
    {
      "cell_type": "code",
      "source": [
        "import sys\n",
        "\n",
        "sys.path.append('/content/drive/MyDrive/Colab Notebooks/ZUM/NLP/')\n",
        "\n",
        "import utils\n",
        "\n",
        "\n",
        "labels, predictions = metrics['labels'], metrics['predictions']\n",
        "names = ['Negative', 'Positive']\n",
        "\n",
        "path = os.path.join(ROOT, 'validation.png')\n",
        "utils.plot_losses(trainer.metrics, path)\n",
        "\n",
        "\n",
        "path = os.path.join(ROOT, 'classification-report.txt')\n",
        "utils.save_classification_report(labels, predictions, names, path)\n",
        "\n",
        "\n",
        "path = os.path.join(ROOT, 'confusion_matrix.png')\n",
        "utils.plot_confusion_matrix(labels, predictions, names, path) "
      ],
      "metadata": {
        "colab": {
          "base_uri": "https://localhost:8080/",
          "height": 1000
        },
        "id": "EcvqdtoY1Q-T",
        "outputId": "629eb494-496a-4088-c804-b60cc706b337"
      },
      "execution_count": 14,
      "outputs": [
        {
          "output_type": "stream",
          "name": "stdout",
          "text": [
            "Successfully saved losses to /content/drive/MyDrive/Colab Notebooks/ZUM/NLP/data/validation.png\n",
            "Successfully saved confusion matrix to /content/drive/MyDrive/Colab Notebooks/ZUM/NLP/data/classification-report.txt\n",
            "Successfully saved classification report to /content/drive/MyDrive/Colab Notebooks/ZUM/NLP/data/confusion_matrix.png\n"
          ]
        },
        {
          "output_type": "display_data",
          "data": {
            "text/plain": [
              "<Figure size 720x576 with 1 Axes>"
            ],
            "image/png": "[encoded data removed]"
          },
          "metadata": {}
        },
        {
          "output_type": "display_data",
          "data": {
            "text/plain": [
              "<Figure size 576x576 with 2 Axes>"
            ],
            "image/png": "[encoded data removed]"
          },
          "metadata": {}
        }
      ]
    }
  ]
}